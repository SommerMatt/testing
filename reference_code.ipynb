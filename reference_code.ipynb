{
 "cells": [
  {
   "cell_type": "code",
   "execution_count": null,
   "id": "de021dcb-93c1-4cc7-aca0-3e6f1c3e0b6f",
   "metadata": {},
   "outputs": [],
   "source": []
  },
  {
   "cell_type": "code",
   "execution_count": null,
   "id": "aab3bd63-4c2c-48c2-9d43-b10426530eda",
   "metadata": {},
   "outputs": [],
   "source": [
    "import matplotlib.pyplot as plt\n",
    "import numpy as np\n",
    "import seaborn as sns\n",
    "\n",
    "from sklearn.tree import DecisionTreeClassifier, plot_tree\n",
    "from sklearn.ensemble import RandomForestClassifier\n",
    "from sklearn.model_selection import StratifiedKFold\n",
    "from sklearn.metrics import confusion_matrix, ConfusionMatrixDisplay, r2_score\n",
    "from sklearn.linear_model import LinearRegression\n",
    "from sklearn.neighbors import KNeighborsClassifier\n",
    "\n",
    "from sklearn import tree"
   ]
  },
  {
   "cell_type": "code",
   "execution_count": null,
   "id": "3ab34653-926c-4162-b008-842610ba0241",
   "metadata": {},
   "outputs": [],
   "source": [
    "# Specified max_depth\n",
    "max_depth=2\n",
    "\n",
    "# List of x features to train/predict on\n",
    "x_feat_list = ['beds', 'baths', 'area', 'distance']\n",
    "\n",
    "# extract data from dataframe\n",
    "x = df_pro.loc[:, x_feat_list].values\n",
    "y = df_pro.loc[:, 'price_bucket'].values\n",
    "y_feats = df_pro['price_bucket'].unique()\n",
    "    \n",
    "# build decision tree classifier\n",
    "dec_tree_clf = tree.DecisionTreeClassifier(max_depth=max_depth)\n",
    "\n",
    "# fit data\n",
    "dec_tree_clf = dec_tree_clf.fit(x, y)\n"
   ]
  },
  {
   "cell_type": "code",
   "execution_count": null,
   "id": "67a4395a-182d-4a9f-ae59-ee94a4e2bd0a",
   "metadata": {},
   "outputs": [],
   "source": [
    "plt.figure()\n",
    "plt.gcf().set_size_inches(12, 5)\n",
    "        \n",
    "# 'plot' decision tree\n",
    "tree.plot_tree(dec_tree_clf, feature_names=x_feat_list, class_names=y_feats);"
   ]
  },
  {
   "cell_type": "code",
   "execution_count": null,
   "id": "8ea1b405-d84d-4433-9d0f-a51c4abe835b",
   "metadata": {},
   "outputs": [],
   "source": []
  },
  {
   "cell_type": "code",
   "execution_count": null,
   "id": "1b6d5968-7c9c-44fb-8bfe-749b8f548b25",
   "metadata": {},
   "outputs": [],
   "source": [
    "# Getting feat list and y data\n",
    "x_feat_list=['beds', 'baths', 'area', 'distance']\n",
    "y_feat = 'price'\n",
    "\n",
    "# initialize regression object\n",
    "reg = LinearRegression()\n",
    "\n",
    "# get target variable\n",
    "x = df_pro.loc[:, x_feat_list].values\n",
    "y = df_pro.loc[:, y_feat].values\n",
    "    \n",
    "# fit regression\n",
    "reg.fit(x, y)\n",
    "\n",
    "# predict y data\n",
    "y_pred = reg.predict(x)\n",
    "    \n",
    "# print model as one line equation\n",
    "model_str = y_feat + f' = {reg.intercept_:.2f}'\n",
    "for feat, coef in zip(x_feat_list, reg.coef_):\n",
    "    model_str += f' + {coef:.2f} {feat}'\n",
    "print(model_str)"
   ]
  },
  {
   "cell_type": "code",
   "execution_count": null,
   "id": "70e4342e-e5e1-40bc-9fc1-6299a3deb73e",
   "metadata": {},
   "outputs": [],
   "source": [
    "r2 = r2_score(y_true=y, y_pred=y_pred)\n",
    "print(f'r2 = {r2:.3}')"
   ]
  },
  {
   "cell_type": "code",
   "execution_count": null,
   "id": "41e95d39-61f8-45a8-a1aa-0c184d2ab571",
   "metadata": {},
   "outputs": [],
   "source": [
    "# Getting feat list and y data\n",
    "x_feat_list=['beds', 'baths', 'distance']\n",
    "y_feat = 'price'\n",
    "\n",
    "# initialize regression object\n",
    "reg = LinearRegression()\n",
    "\n",
    "# get target variable\n",
    "x = df_pro.loc[:, x_feat_list].values\n",
    "y = df_pro.loc[:, y_feat].values\n",
    "    \n",
    "# fit regression\n",
    "reg.fit(x, y)\n",
    "\n",
    "# predict y data\n",
    "y_pred = reg.predict(x)\n",
    "    \n",
    "# print model as one line equation\n",
    "model_str = y_feat + f' = {reg.intercept_:.2f}'\n",
    "for feat, coef in zip(x_feat_list, reg.coef_):\n",
    "    model_str += f' + {coef:.2f} {feat}'\n",
    "print(model_str)\n",
    "\n",
    "# compute and print r2\n",
    "r2 = r2_score(y_true=y, y_pred=y_pred)\n",
    "print(f'r2 = {r2:.3}')"
   ]
  },
  {
   "cell_type": "code",
   "execution_count": null,
   "id": "b0b022e3-380b-4f34-8e19-a126c1d637a5",
   "metadata": {},
   "outputs": [],
   "source": [
    "# Pair plot of the dataset, colored by genre\n",
    "sns.pairplot(df_metal, hue = 'genre')"
   ]
  },
  {
   "cell_type": "code",
   "execution_count": null,
   "id": "f8902751-cd17-43e2-af87-6bc7f89709e9",
   "metadata": {},
   "outputs": [],
   "source": []
  },
  {
   "cell_type": "code",
   "execution_count": null,
   "id": "01b3d749-4822-4c02-bd2e-ee70ee230f13",
   "metadata": {},
   "outputs": [],
   "source": [
    "# Normalizing\n",
    "df_metal.var()\n",
    "x_feat_list = ['loudness', 'instrumentalness', 'liveness', 'tempo', 'duration_ms','years']\n",
    "\n",
    "for feat in x_feat_list:\n",
    "    df_metal[feat] = df_metal[feat] / df_metal[feat].std()\n",
    "\n",
    "df_metal.var()"
   ]
  },
  {
   "cell_type": "code",
   "execution_count": null,
   "id": "d3e29e13-6510-4ebd-acea-ef734311fec5",
   "metadata": {},
   "outputs": [],
   "source": [
    "# Normalized variances check\n",
    "df_metal.var()"
   ]
  }
 ],
 "metadata": {
  "kernelspec": {
   "display_name": "Python 3",
   "language": "python",
   "name": "python3"
  },
  "language_info": {
   "codemirror_mode": {
    "name": "ipython",
    "version": 3
   },
   "file_extension": ".py",
   "mimetype": "text/x-python",
   "name": "python",
   "nbconvert_exporter": "python",
   "pygments_lexer": "ipython3",
   "version": "3.7.3"
  }
 },
 "nbformat": 4,
 "nbformat_minor": 5
}
